{
 "cells": [
  {
   "cell_type": "markdown",
   "metadata": {},
   "source": [
    "Amanda Baker, andrewID: adbaker"
   ]
  },
  {
   "cell_type": "markdown",
   "metadata": {},
   "source": [
    "## Problem 1: \n",
    "#### Part i:"
   ]
  },
  {
   "cell_type": "code",
   "execution_count": 1,
   "metadata": {},
   "outputs": [
    {
     "name": "stdout",
     "output_type": "stream",
     "text": [
      "parse_hms('2:34:16') -> (2, 34, 16)\n",
      "parse_hms('14:21:56') -> (14, 21, 56)\n",
      "parse_hms('45:00') -> (0, 45, 0)\n",
      "parse_hms('23') -> (0, 0, 23)\n",
      "\n",
      "\n",
      "parse_hms_lc('2:34:16') -> (2, 34, 16)\n",
      "parse_hms_lc('14:21:56') -> (14, 21, 56)\n",
      "parse_hms_lc('45:00') -> (0, 45, 0)\n",
      "parse_hms_lc('23') -> (0, 0, 23)\n"
     ]
    }
   ],
   "source": [
    "# using list comprehension in this version\n",
    "import re\n",
    "\n",
    "def parse_hms_lc(t):\n",
    "    'Takes a string representation of time duration and returns a tuple of hours, mins, and seconds'\n",
    "    start_lst = [0 * 3 for i in range(0,3)]\n",
    "    split_t = re.split(':', t)\n",
    "    t_lst = [int(i) for i in split_t]\n",
    "    for i in range(len(t_lst)):\n",
    "        start_lst[-len(t_lst)+i] = t_lst[i]\n",
    "    return tuple(start_lst)\n",
    "\n",
    "# played around with the time module in this version\n",
    "import time\n",
    "\n",
    "def parse_hms(t):\n",
    "    'Takes a string representation of time duration and returns a tuple of hours, mins, and seconds'\n",
    "    try:\n",
    "        full = time.strptime(t, '%H:%M:%S')\n",
    "    except ValueError:\n",
    "        if len(t) > 2:\n",
    "            full = time.strptime(t, '%M:%S')\n",
    "        else:\n",
    "            full = time.strptime(t, '%S')\n",
    "    return full.tm_hour, full.tm_min, full.tm_sec\n",
    "\n",
    "# print statements for both versions\n",
    "# parse_hms and parse_hms_lc can be used interchangeable in problem 1: part iv\n",
    "print(\"parse_hms('2:34:16') ->\", parse_hms('2:34:16'))\n",
    "print(\"parse_hms('14:21:56') ->\", parse_hms('14:21:56'))\n",
    "print(\"parse_hms('45:00') ->\", parse_hms('45:00'))\n",
    "print(\"parse_hms('23') ->\", parse_hms('23'))\n",
    "print('\\n')\n",
    "print(\"parse_hms_lc('2:34:16') ->\", parse_hms_lc('2:34:16'))\n",
    "print(\"parse_hms_lc('14:21:56') ->\", parse_hms_lc('14:21:56'))\n",
    "print(\"parse_hms_lc('45:00') ->\", parse_hms_lc('45:00'))\n",
    "print(\"parse_hms_lc('23') ->\", parse_hms_lc('23'))"
   ]
  },
  {
   "cell_type": "markdown",
   "metadata": {},
   "source": [
    "#### Part 1: ii"
   ]
  },
  {
   "cell_type": "code",
   "execution_count": 2,
   "metadata": {},
   "outputs": [
    {
     "name": "stdout",
     "output_type": "stream",
     "text": [
      "hms_to_seconds(1,23,24) -> 5004\n",
      "hms_to_seconds(0,33,37) -> 2017\n"
     ]
    }
   ],
   "source": [
    "def hms_to_seconds(h,m,s):\n",
    "    'Takes h hours, m mins, and s secs and returns the equivalent total seconds'\n",
    "    return h*3600 + m*60 + s\n",
    "\n",
    "print(\"hms_to_seconds(1,23,24) ->\", hms_to_seconds(1,23,24))\n",
    "print(\"hms_to_seconds(0,33,37) ->\", hms_to_seconds(0,33,37))"
   ]
  },
  {
   "cell_type": "markdown",
   "metadata": {},
   "source": [
    "#### Part 1: iii"
   ]
  },
  {
   "cell_type": "code",
   "execution_count": 3,
   "metadata": {},
   "outputs": [
    {
     "name": "stdout",
     "output_type": "stream",
     "text": [
      "seconds_to_hms(2017) -> (0, 33, 37)\n",
      "seconds_to_hms(0) -> (0, 0, 0)\n",
      "hms_to_seconds(*seconds_to_hms(1234)) -> 1234\n"
     ]
    }
   ],
   "source": [
    "def seconds_to_hms(n):\n",
    "    'Takes n seconds and returns the equivalent hours, mins, and secs'\n",
    "    h = n // 3600\n",
    "    m = (n // 60) - h*60\n",
    "    s = n - (h*3600 + m*60)\n",
    "    return h, m, s\n",
    "\n",
    "print('seconds_to_hms(2017) ->', seconds_to_hms(2017))\n",
    "print('seconds_to_hms(0) ->', seconds_to_hms(0))\n",
    "print('hms_to_seconds(*seconds_to_hms(1234)) ->', hms_to_seconds(*seconds_to_hms(1234)))"
   ]
  },
  {
   "cell_type": "markdown",
   "metadata": {},
   "source": [
    "#### Part 1: iv"
   ]
  },
  {
   "cell_type": "code",
   "execution_count": 4,
   "metadata": {},
   "outputs": [
    {
     "name": "stdout",
     "output_type": "stream",
     "text": [
      "sum_hms(['0:1:24', '2:34:45']) -> (2, 36, 9)\n",
      "sum_hms(['3:00:00', '23:00', '45']) -> (3, 23, 45)\n",
      "sum_hms([]) -> (0, 0, 0)\n"
     ]
    }
   ],
   "source": [
    "def sum_hms(lst):\n",
    "    'Takes an array of strings representing time durations and adds them, returning a tuple of hours, minutes, seconds'\n",
    "    args_lst = [parse_hms(s) for s in lst]\n",
    "    sum_of_seconds = [hms_to_seconds(n[0], n[1], n[2]) for n in args_lst]\n",
    "    return seconds_to_hms(sum(sum_of_seconds))\n",
    "\n",
    "print(\"sum_hms(['0:1:24', '2:34:45']) ->\", sum_hms(['0:1:24', '2:34:45']))\n",
    "print(\"sum_hms(['3:00:00', '23:00', '45']) ->\", sum_hms(['3:00:00', '23:00', '45']))\n",
    "print(\"sum_hms([]) ->\", sum_hms([]))"
   ]
  },
  {
   "cell_type": "markdown",
   "metadata": {},
   "source": [
    "## Part 2: Zeller's Congruence"
   ]
  },
  {
   "cell_type": "code",
   "execution_count": 5,
   "metadata": {},
   "outputs": [
    {
     "name": "stdout",
     "output_type": "stream",
     "text": [
      "3\n",
      "5\n",
      "6\n"
     ]
    }
   ],
   "source": [
    "def zeller(y,m,q):\n",
    "    'Takes year, month, and day as input and returns day of the week (0-6)'\n",
    "    J, K = y // 100, y % 100\n",
    "    if m <= 2:\n",
    "        m = 12 + m\n",
    "        K = K - 1\n",
    "    h = (q + (13*(m + 1) // 5) + K + (K // 4) + (J // 4) - 2*J) % 7\n",
    "    return h\n",
    "\n",
    "print(zeller(2019, 1, 1))  # Happy New Year! (3)\n",
    "print(zeller(1992, 5, 14)) # Birthday = Thursday (5)\n",
    "print(zeller(1995, 2, 17)) # Katie Birthday = Friday (6)"
   ]
  },
  {
   "cell_type": "markdown",
   "metadata": {},
   "source": [
    "## Part 3: Probability"
   ]
  },
  {
   "cell_type": "code",
   "execution_count": 2,
   "metadata": {},
   "outputs": [
    {
     "name": "stdout",
     "output_type": "stream",
     "text": [
      "(0.495, 0.987)\n"
     ]
    }
   ],
   "source": [
    "import random\n",
    "\n",
    "# a\n",
    "def dice():\n",
    "    'Returns a random number from 1 to 6'\n",
    "    return random.randint(1,6)\n",
    "\n",
    "# b\n",
    "def six_in_4():\n",
    "    'Simulates successive rolling of a die 4 times, , checks for occurrence of 6'\n",
    "    roll_lst = [dice() for i in range(4)]\n",
    "    if 6 in roll_lst:\n",
    "        return True\n",
    "    else:\n",
    "        return False\n",
    "    \n",
    "# c\n",
    "def two_six_in_24():\n",
    "    'Simulates successive rolling of a die 24 times, checks for occurrence of two 6s'\n",
    "    roll_lst = [dice() for i in range(24)]\n",
    "    if all(i in roll_lst for i in [6, 6]):\n",
    "        return True\n",
    "    else:\n",
    "        return False\n",
    "    \n",
    "# d\n",
    "def prob_question(n = 1000):\n",
    "    '''\n",
    "    Performs 2 probability simulations (rolling one 6 in 4 die rolls, and rolling 2 6s in 24 die rolls) n times (default = 1000)\n",
    "    and returns the probability of rolling a 6 for both simulations.\n",
    "    '''\n",
    "    sim_6_in_4 = [six_in_4() for i in range(n)]\n",
    "    sim_2_6_in_4 = [two_six_in_24() for i in range(n)]\n",
    "    return sim_6_in_4.count(True)/n, sim_2_6_in_4.count(True)/n\n",
    "    \n",
    "print(prob_question())"
   ]
  },
  {
   "cell_type": "markdown",
   "metadata": {},
   "source": [
    "## Part 4: Movies"
   ]
  },
  {
   "cell_type": "code",
   "execution_count": 7,
   "metadata": {},
   "outputs": [
    {
     "data": {
      "text/plain": [
       "[('1536', 5.0, 'Aiqing wansui (1994)'),\n",
       " ('1653', 5.0, 'Entertaining Angels: The Dorothy Day Story (1996)'),\n",
       " ('814', 5.0, 'Great Day in Harlem, A (1994)'),\n",
       " ('1201', 5.0, 'Marlene Dietrich: Shadow and Light (1996) '),\n",
       " ('1189', 5.0, 'Prefontaine (1997)'),\n",
       " ('1467', 5.0, 'Saint of Fort Washington, The (1993)'),\n",
       " ('1500', 5.0, 'Santa with Muscles (1996)'),\n",
       " ('1599', 5.0, \"Someone Else's America (1995)\"),\n",
       " ('1293', 5.0, 'Star Kid (1997)'),\n",
       " ('1122', 5.0, 'They Made Me a Criminal (1939)')]"
      ]
     },
     "execution_count": 7,
     "metadata": {},
     "output_type": "execute_result"
    }
   ],
   "source": [
    "# part i\n",
    "def read_u_data(data_file='u.data', encoding='utf-8'):\n",
    "    'Returns a dictionary of movie IDs and all ratings given in dataset'\n",
    "    lines = [line.rstrip('\\n').split('\\t') for line in open(data_file)]\n",
    "    m_dict = {}\n",
    "    for line in lines:\n",
    "        if line[1] not in m_dict.keys():\n",
    "            m_dict[line[1]] = [int(line[2])]\n",
    "        else:\n",
    "            m_dict[line[1]].append(int(line[2]))\n",
    "    return m_dict\n",
    "\n",
    "# part ii\n",
    "def calculate_avg_u_data_rating(d):\n",
    "    'Returns a dictionary of movie IDs and average ratings'\n",
    "    u_data_avg = {k : (sum(d[k])/len(d[k])) for k in d.keys()}\n",
    "    return u_data_avg\n",
    "\n",
    "# part iii\n",
    "def read_u_item(data_file='u.item', encoding='latin-1'):\n",
    "    'Reads u.item and returns dictionary of movie IDs and titles'\n",
    "    lines = [line.rstrip('\\n').split('|') for line in open(data_file)]\n",
    "    u_item = {line[0]:line[1] for line in lines}\n",
    "    return u_item\n",
    "\n",
    "# part iv\n",
    "def write_ratings(u_data_avg, u_item, fname='movie-ratings.txt'):\n",
    "    'Joins u_data_avg (ratings) and u_item (titles) and writes output to movie-ratings.txt'\n",
    "    full_list = [(k, round(u_data_avg[k],2), u_item[k]) for k in u_data_avg if k in u_item] \n",
    "    full_list_sort = sorted(full_list, key = lambda x: (-x[1], x[2]))\n",
    "    with open(fname, 'w') as filehandle:  \n",
    "        for line in full_list_sort:\n",
    "            filehandle.writelines(str(i) + '\\t' for i in line)\n",
    "            filehandle.writelines('\\n')\n",
    "    return sorted(full_list, key = lambda x: (-x[1], x[2]))\n",
    "\n",
    "d = calculate_avg_u_data_rating(read_u_data())\n",
    "u = read_u_item()\n",
    "write_ratings(d,u)[:10]"
   ]
  },
  {
   "cell_type": "markdown",
   "metadata": {},
   "source": [
    "## Part 5: Stock Prices"
   ]
  },
  {
   "cell_type": "code",
   "execution_count": 8,
   "metadata": {
    "scrolled": true
   },
   "outputs": [
    {
     "data": {
      "image/png": "[encoded data removed]",
      "text/plain": [
       "<Figure size 360x360 with 1 Axes>"
      ]
     },
     "metadata": {},
     "output_type": "display_data"
    }
   ],
   "source": [
    "import csv\n",
    "import matplotlib.pyplot as plt\n",
    "import numpy as np\n",
    "%matplotlib inline\n",
    "\n",
    "with open('gpro.csv') as filename:\n",
    "    gprocsv = csv.reader(filename, delimiter=',')\n",
    "    gprocsv.__next__()\n",
    "    y = [line[5] for line in gprocsv]\n",
    "    x = range(1, len(y) + 1)\n",
    "    plt.style.use('ggplot')\n",
    "    plt.figure(figsize=(5,5))\n",
    "    plt.plot(x,y, color = '#14A8F9')\n",
    "    plt.suptitle('Stock Price of GPRO in 2018', fontsize = 14)\n",
    "    plt.xlabel('Days', fontsize = 12)\n",
    "    plt.ylabel('Adj. Close Price', fontsize = 12)\n",
    "    plt.axis([0, max(x), min(y), max(y)])\n",
    "    plt.yticks(np.arange(1, 170, step = 10))\n",
    "    plt.show()"
   ]
  },
  {
   "cell_type": "markdown",
   "metadata": {},
   "source": [
    "## Part 6: One Hot Encoding"
   ]
  },
  {
   "cell_type": "code",
   "execution_count": 1,
   "metadata": {},
   "outputs": [
    {
     "data": {
      "text/plain": [
       "[['ford', [1, 0, 0, 0, 0]],\n",
       " ['honda', [0, 1, 0, 0, 0]],\n",
       " ['toyota', [0, 0, 1, 0, 0]],\n",
       " ['mazda', [0, 0, 0, 1, 0]],\n",
       " ['subaru', [0, 0, 0, 0, 1]]]"
      ]
     },
     "execution_count": 1,
     "metadata": {},
     "output_type": "execute_result"
    }
   ],
   "source": [
    "import numpy as np\n",
    "\n",
    "def one_hot_encoding(lst):\n",
    "    'Accepts a list of values and returns a list of each value and its corresponding one hot encoding value'\n",
    "    encode_lst = [[0] * len(lst) for i in lst]\n",
    "    for i in lst:\n",
    "        encode_lst[lst.index(i)][lst.index(i)] = 1\n",
    "    coded_values_lst = [[lst[i], encode_lst[i]] for i in range(len(lst))]\n",
    "    return coded_values_lst\n",
    "\n",
    "one_hot_encoding(['alpha','beta', 'gamma'])\n",
    "one_hot_encoding(['ford','honda', 'toyota', 'mazda', 'subaru'])"
   ]
  },
  {
   "cell_type": "code",
   "execution_count": 11,
   "metadata": {},
   "outputs": [
    {
     "data": {
      "text/plain": [
       "[['ford', [0, 0, 0, 0, 0]],\n",
       " ['honda', [0, 0, 0, 0, 0]],\n",
       " ['toyota', [0, 0, 0, 0, 0]],\n",
       " ['mazda', [0, 0, 0, 0, 0]],\n",
       " ['subaru', [0, 0, 0, 0, 0]]]"
      ]
     },
     "execution_count": 11,
     "metadata": {},
     "output_type": "execute_result"
    }
   ],
   "source": [
    "def encode(x):\n",
    "    x = 1\n",
    "    \n",
    "def one_hot_encoding(lst):\n",
    "    'Accepts a list of values and returns a list of each value and its corresponding one hot encoding value'\n",
    "    encode_lst = [[0] * len(lst) for i in lst]\n",
    "    encode_lst2 = [encode(lst[i]) for i in lst if encode_lst[lst.index(i)][lst.index(i)]]\n",
    "    coded_values_lst = [[lst[i], encode_lst[i]] for i in range(len(lst))]\n",
    "    return coded_values_lst\n",
    "\n",
    "one_hot_encoding(['alpha','beta', 'gamma'])\n",
    "one_hot_encoding(['ford','honda', 'toyota', 'mazda', 'subaru'])"
   ]
  }
 ],
 "metadata": {
  "kernelspec": {
   "display_name": "Python 3",
   "language": "python",
   "name": "python3"
  },
  "language_info": {
   "codemirror_mode": {
    "name": "ipython",
    "version": 3
   },
   "file_extension": ".py",
   "mimetype": "text/x-python",
   "name": "python",
   "nbconvert_exporter": "python",
   "pygments_lexer": "ipython3",
   "version": "3.7.1"
  }
 },
 "nbformat": 4,
 "nbformat_minor": 2
}
