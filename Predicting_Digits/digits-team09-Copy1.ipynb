{
 "cells": [
  {
   "cell_type": "markdown",
   "metadata": {},
   "source": [
    "# HW5: Feature Engineering\n",
    "### Team 9: Aysha Machingara and Amanda Baker"
   ]
  },
  {
   "cell_type": "markdown",
   "metadata": {},
   "source": [
    "#### 1. Read data from file"
   ]
  },
  {
   "cell_type": "code",
   "execution_count": 3,
   "metadata": {},
   "outputs": [],
   "source": [
    "%run read_all_data.py"
   ]
  },
  {
   "cell_type": "code",
   "execution_count": 4,
   "metadata": {},
   "outputs": [],
   "source": [
    "X_train, y_train = read_all_image_label('train_images.txt', 'train_labels.txt')\n",
    "X_test, y_test = read_all_image_label('test_images.txt', 'test_labels.txt')"
   ]
  },
  {
   "cell_type": "code",
   "execution_count": 7,
   "metadata": {},
   "outputs": [
    {
     "name": "stdout",
     "output_type": "stream",
     "text": [
      "5000 5000\n",
      "1000 1000\n"
     ]
    }
   ],
   "source": [
    "# verify all samples have been read\n",
    "print(len(X_train), len(y_train))\n",
    "print(len(X_test), len(y_test))"
   ]
  },
  {
   "cell_type": "code",
   "execution_count": 12,
   "metadata": {},
   "outputs": [
    {
     "data": {
      "text/plain": [
       "['                            ',\n",
       " '                            ',\n",
       " '                            ',\n",
       " '                            ',\n",
       " '                            ',\n",
       " '                +++++##+    ',\n",
       " '        +++++######+###+    ',\n",
       " '       +##########+++++     ',\n",
       " '        #######+##          ',\n",
       " '        +++###  ++          ',\n",
       " '           +#+              ',\n",
       " '           +#+              ',\n",
       " '            +#+             ',\n",
       " '            +##++           ',\n",
       " '             +###++         ',\n",
       " '              ++##++        ',\n",
       " '                +##+        ',\n",
       " '                 ###+       ',\n",
       " '              +++###        ',\n",
       " '            ++#####+        ',\n",
       " '          ++######+         ',\n",
       " '        ++######+           ',\n",
       " '       +######+             ',\n",
       " '    ++######+               ',\n",
       " '    +####++                 ',\n",
       " '                            ',\n",
       " '                            ',\n",
       " '                            ']"
      ]
     },
     "execution_count": 12,
     "metadata": {},
     "output_type": "execute_result"
    }
   ],
   "source": [
    "# sample observation\n",
    "X_train[0]"
   ]
  },
  {
   "cell_type": "markdown",
   "metadata": {},
   "source": [
    "#### 2. Encode the data"
   ]
  },
  {
   "cell_type": "code",
   "execution_count": 11,
   "metadata": {},
   "outputs": [],
   "source": [
    "import numpy as np\n",
    "y_train_np = np.array(y_train)\n",
    "y_test_np = np.array(y_test)"
   ]
  },
  {
   "cell_type": "code",
   "execution_count": 36,
   "metadata": {},
   "outputs": [
    {
     "data": {
      "text/plain": [
       "5"
      ]
     },
     "execution_count": 36,
     "metadata": {},
     "output_type": "execute_result"
    }
   ],
   "source": [
    "img = X_train[0]\n",
    "y_train_np[0]"
   ]
  },
  {
   "cell_type": "code",
   "execution_count": 13,
   "metadata": {},
   "outputs": [
    {
     "name": "stdout",
     "output_type": "stream",
     "text": [
      "['                            ',\n",
      " '                            ',\n",
      " '                            ',\n",
      " '                            ',\n",
      " '                            ',\n",
      " '                +++++##+    ',\n",
      " '        +++++######+###+    ',\n",
      " '       +##########+++++     ',\n",
      " '        #######+##          ',\n",
      " '        +++###  ++          ',\n",
      " '           +#+              ',\n",
      " '           +#+              ',\n",
      " '            +#+             ',\n",
      " '            +##++           ',\n",
      " '             +###++         ',\n",
      " '              ++##++        ',\n",
      " '                +##+        ',\n",
      " '                 ###+       ',\n",
      " '              +++###        ',\n",
      " '            ++#####+        ',\n",
      " '          ++######+         ',\n",
      " '        ++######+           ',\n",
      " '       +######+             ',\n",
      " '    ++######+               ',\n",
      " '    +####++                 ',\n",
      " '                            ',\n",
      " '                            ',\n",
      " '                            ']\n"
     ]
    }
   ],
   "source": [
    "from pprint import pprint as pp\n",
    "pp(img)"
   ]
  },
  {
   "cell_type": "code",
   "execution_count": 14,
   "metadata": {},
   "outputs": [],
   "source": [
    "# encode a \"digit\" \n",
    "# scikit requires everything to be expressed as numbers\n",
    "\n",
    "def char2num(c):\n",
    "    if c == ' ':\n",
    "        n = 0\n",
    "    elif c == '+':\n",
    "        n = 1\n",
    "    elif c == '#':\n",
    "        n = 1\n",
    "    else:\n",
    "        raise Exception('Invalid char %s' % c)\n",
    "    return n"
   ]
  },
  {
   "cell_type": "code",
   "execution_count": 16,
   "metadata": {},
   "outputs": [
    {
     "data": {
      "text/plain": [
       "[1, 0, 1, 1, 0, 1, 1]"
      ]
     },
     "execution_count": 16,
     "metadata": {},
     "output_type": "execute_result"
    }
   ],
   "source": [
    "[ char2num(c) for c in '+ ## ++']"
   ]
  },
  {
   "cell_type": "code",
   "execution_count": 20,
   "metadata": {},
   "outputs": [],
   "source": [
    "s1 = ''.join(img)"
   ]
  },
  {
   "cell_type": "code",
   "execution_count": 25,
   "metadata": {},
   "outputs": [],
   "source": [
    "[ char2num(c) for c in s1];"
   ]
  },
  {
   "cell_type": "code",
   "execution_count": 41,
   "metadata": {},
   "outputs": [
    {
     "data": {
      "text/plain": [
       "[(1, 4), (2, 5), (3, 6)]"
      ]
     },
     "execution_count": 41,
     "metadata": {},
     "output_type": "execute_result"
    }
   ],
   "source": [
    "l1 = [1, 2, 3]\n",
    "l2 = [4, 5, 6]\n",
    "list(zip(l1,l2))"
   ]
  },
  {
   "cell_type": "code",
   "execution_count": 61,
   "metadata": {},
   "outputs": [],
   "source": [
    "def img2array(img, lbl):\n",
    "    s = ''.join(img)   \n",
    "    arr = [ char2num(c) for c in s]\n",
    "    arr.append(lbl)\n",
    "    return np.array(arr)"
   ]
  },
  {
   "cell_type": "code",
   "execution_count": 63,
   "metadata": {},
   "outputs": [],
   "source": [
    "X_train_np = [img2array(img, lbl) for img, lbl in zip(X_train, y_train_np)]\n",
    "X_test_np = [img2array(img, lbl) for img, lbl in zip(X_test, y_train_np)]"
   ]
  },
  {
   "cell_type": "code",
   "execution_count": 45,
   "metadata": {},
   "outputs": [],
   "source": [
    "#list(zip(X_train_np, y_train_np));"
   ]
  },
  {
   "cell_type": "code",
   "execution_count": 64,
   "metadata": {},
   "outputs": [],
   "source": [
    "from sklearn.naive_bayes import GaussianNB\n",
    "#from sklearn.neighbors import KNeighborsClassifier"
   ]
  },
  {
   "cell_type": "code",
   "execution_count": 65,
   "metadata": {},
   "outputs": [],
   "source": [
    "model = GaussianNB()\n",
    "#model = KNeighborsClassifier()"
   ]
  },
  {
   "cell_type": "code",
   "execution_count": 66,
   "metadata": {},
   "outputs": [],
   "source": [
    "from sklearn.model_selection import train_test_split\n",
    "#X_train, X_test, y_train, y_test = train_test_split(data, target, test_size=0.33, random_state=42)\n",
    "\n",
    "model.fit(X_train_np, y_train_np)\n",
    "predicted = model.predict(X_test_np)\n",
    "expected = y_test_np"
   ]
  },
  {
   "cell_type": "code",
   "execution_count": 67,
   "metadata": {},
   "outputs": [
    {
     "name": "stdout",
     "output_type": "stream",
     "text": [
      "0.196\n",
      "              precision    recall  f1-score   support\n",
      "\n",
      "           0       0.11      0.17      0.14        90\n",
      "           1       0.27      0.13      0.18       108\n",
      "           2       0.24      0.26      0.25       103\n",
      "           3       0.16      0.18      0.17       100\n",
      "           4       0.13      0.12      0.12       107\n",
      "           5       0.12      0.15      0.14        92\n",
      "           6       0.39      0.31      0.35        91\n",
      "           7       0.30      0.26      0.28       106\n",
      "           8       0.15      0.21      0.18       103\n",
      "           9       0.25      0.17      0.20       100\n",
      "\n",
      "   micro avg       0.20      0.20      0.20      1000\n",
      "   macro avg       0.21      0.20      0.20      1000\n",
      "weighted avg       0.21      0.20      0.20      1000\n",
      "\n",
      "[[15  1 10  2 11 14 11  2 20  4]\n",
      " [ 7 14 15 13  9  6  8 11 16  9]\n",
      " [11  3 27 10 11 12 12  3 13  1]\n",
      " [10  7  8 18 13 11  2 13 15  3]\n",
      " [15  3  9  9 13 19  1 11 15 12]\n",
      " [12  4 14  5  9 14  5  5 20  4]\n",
      " [12  2 16  2  6  5 28  0 20  0]\n",
      " [14  6  1 22  8 12  0 28  2 13]\n",
      " [14  8  9 10 10 12  4  8 22  6]\n",
      " [22  3  3 20 11  7  0 12  5 17]]\n"
     ]
    }
   ],
   "source": [
    "# Import  metrics\n",
    "from sklearn import metrics\n",
    "\n",
    "# summarize the fit of the model\n",
    "\n",
    "print(metrics.accuracy_score(expected, predicted))\n",
    "print(metrics.classification_report(expected, predicted))\n",
    "print(metrics.confusion_matrix(expected, predicted))"
   ]
  },
  {
   "cell_type": "code",
   "execution_count": null,
   "metadata": {
    "collapsed": true
   },
   "outputs": [],
   "source": [
    "## Interpreting the Confusion Matrix\n",
    "# rows add up to actuals present in the training data\n",
    "# columns are what scikit has actually predicted\n",
    "# i.e. 77 0s out of 90 it got right\n",
    "# 5 of the zeros were predicted to be 8s\n",
    "\n"
   ]
  }
 ],
 "metadata": {
  "kernelspec": {
   "display_name": "Python 3",
   "language": "python",
   "name": "python3"
  },
  "language_info": {
   "codemirror_mode": {
    "name": "ipython",
    "version": 3
   },
   "file_extension": ".py",
   "mimetype": "text/x-python",
   "name": "python",
   "nbconvert_exporter": "python",
   "pygments_lexer": "ipython3",
   "version": "3.7.1"
  }
 },
 "nbformat": 4,
 "nbformat_minor": 1
}
