{
 "cells": [
  {
   "cell_type": "markdown",
   "metadata": {},
   "source": [
    "Amanda Baker\n",
    "\n",
    "95885 Data Science and Big Data: HW7"
   ]
  },
  {
   "cell_type": "code",
   "execution_count": 1,
   "metadata": {},
   "outputs": [
    {
     "name": "stdout",
     "output_type": "stream",
     "text": [
      "{'A': 0.379, 'B': 0.206, 'C': 0.37, 'D': 0.045}\n",
      "{'A': 0.362, 'B': 0.169, 'C': 0.27, 'D': 0.071, 'E': 0.128}\n",
      "{'A': 0.171, 'B': 0.328, 'C': 0.302, 'D': 0.041, 'E': 0.058, 'F': 0.019, 'G': 0.015, 'H': 0.015, 'I': 0.019, 'J': 0.014, 'K': 0.018}\n"
     ]
    }
   ],
   "source": [
    "import random\n",
    "\n",
    "def read_graph(fname):\n",
    "    '''Reads from an incidence vector representation and converts that representation into a dictionary with the page as key\n",
    "    and page neighbors stored as a list'''\n",
    "    file = open(fname, 'r')\n",
    "    vector_dict = {}\n",
    "    for line in file:\n",
    "        if len(line) > 1:\n",
    "            line = line.split()\n",
    "            neighbors_lst = [line[i] for i in range(1,len(line))]\n",
    "            vector_dict[line[0]] = neighbors_lst \n",
    "    return vector_dict\n",
    "    \n",
    "def random_walk(graph, walk_len=1000, beta=0.85):\n",
    "    '''Simulates [walk_len] page selections from a given beta and returns the final node'''\n",
    "    current_page = random.choice([*graph.keys()])\n",
    "    for i in range(walk_len):\n",
    "        r = random.uniform(0,1)\n",
    "        if r <= beta and len(graph[current_page]) > 0:\n",
    "            current_page = random.choice([*graph[current_page]])\n",
    "        elif r > beta: \n",
    "            current_page = random.choice([*graph.keys()])\n",
    "    return current_page\n",
    "    \n",
    "def simulate_pagerank(fname, walk_len=1000, N=1000, beta=0.85):\n",
    "    '''Simulates [walk_len] random walks (i.e. page selections) and tracks the number of times a page is the final node\n",
    "    landed upon. Returns the probability of each node being the final node.'''\n",
    "    random.seed(1)\n",
    "    graph = read_graph(fname)\n",
    "    counter = {key:0 for key in graph.keys()}\n",
    "    for i in range(walk_len):\n",
    "        final_node = random_walk(graph)\n",
    "        counter[final_node] += 1\n",
    "    page_rank = {key : value/N for (key, value) in counter.items()}\n",
    "    return page_rank\n",
    "    \n",
    "print(simulate_pagerank('graph-1.txt', walk_len=1000, N=1000, beta=0.85))\n",
    "print(simulate_pagerank('graph-2.txt', walk_len=1000, N=1000, beta=0.85))\n",
    "print(simulate_pagerank('wikipedia-example.txt', walk_len=1000, N=1000, beta=0.85))"
   ]
  }
 ],
 "metadata": {
  "kernelspec": {
   "display_name": "Python 3",
   "language": "python",
   "name": "python3"
  },
  "language_info": {
   "codemirror_mode": {
    "name": "ipython",
    "version": 3
   },
   "file_extension": ".py",
   "mimetype": "text/x-python",
   "name": "python",
   "nbconvert_exporter": "python",
   "pygments_lexer": "ipython3",
   "version": "3.7.1"
  }
 },
 "nbformat": 4,
 "nbformat_minor": 2
}
