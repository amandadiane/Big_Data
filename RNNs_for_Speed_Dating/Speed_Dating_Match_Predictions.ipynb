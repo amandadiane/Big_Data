{
 "cells": [
  {
   "cell_type": "code",
   "execution_count": 1,
   "metadata": {},
   "outputs": [],
   "source": [
    "import os\n",
    "os.environ['CUDA_VISIBLE_DEVICES'] = '3'"
   ]
  },
  {
   "cell_type": "code",
   "execution_count": 2,
   "metadata": {},
   "outputs": [
    {
     "name": "stderr",
     "output_type": "stream",
     "text": [
      "Using TensorFlow backend.\n"
     ]
    }
   ],
   "source": [
    "import keras\n",
    "from keras import optimizers\n",
    "from keras import losses\n",
    "from keras import metrics\n",
    "from keras import regularizers\n",
    "from keras.models import Sequential\n",
    "from keras.layers import Dense, Dropout\n",
    "from keras.utils import to_categorical\n",
    "from keras.preprocessing import sequence\n",
    "\n",
    "import numpy as np\n",
    "from numpy import argmax\n",
    "\n",
    "import matplotlib.pyplot as plt"
   ]
  },
  {
   "cell_type": "code",
   "execution_count": 3,
   "metadata": {},
   "outputs": [],
   "source": [
    "# unzipping the data\n",
    "import zipfile\n",
    "with zipfile.ZipFile('speed-dating-experiment.zip', 'r') as zip_ref:\n",
    "    zip_ref.extractall('./data')"
   ]
  },
  {
   "cell_type": "code",
   "execution_count": 4,
   "metadata": {},
   "outputs": [],
   "source": [
    "# loading the data\n",
    "import pandas as pd\n",
    "data = pd.read_csv('./data/Speed Dating Data.csv', engine='python')"
   ]
  },
  {
   "cell_type": "code",
   "execution_count": 5,
   "metadata": {},
   "outputs": [],
   "source": [
    "# remove features that will not impact the match\n",
    "data = data.drop(columns=['iid', 'pid', 'id', 'gender', 'idg', 'condtn', 'wave', 'round', 'position', 'positin1'])\n",
    "# remove features with not enough data\n",
    "data = data.drop(columns=[i for i in data.columns if (data[i].count() < 6000)])"
   ]
  },
  {
   "cell_type": "code",
   "execution_count": 6,
   "metadata": {},
   "outputs": [
    {
     "data": {
      "image/png": "[encoded data removed]",
      "text/plain": [
       "<Figure size 432x288 with 1 Axes>"
      ]
     },
     "metadata": {
      "needs_background": "light"
     },
     "output_type": "display_data"
    }
   ],
   "source": [
    "# drop rows with no data in 'match' column\n",
    "data['match'] = pd.to_numeric(data['match'], errors='coerce')\n",
    "data = data.dropna()\n",
    "\n",
    "# display values in each class\n",
    "target_count = data.match.value_counts()\n",
    "target_count.plot(kind='bar', title='Target Counts')\n",
    "\n",
    "# set aside labels as target vector\n",
    "labels = list(data['match'])\n",
    "labels = [int(i) for i in labels]\n",
    "data = data.drop(columns=['match'])\n",
    "\n",
    "# remove categorical features\n",
    "cat_cols = [i for i in data.columns if data[i].dtype != 'float']\n",
    "data = data.drop(columns=[i for i in cat_cols])"
   ]
  },
  {
   "cell_type": "code",
   "execution_count": 7,
   "metadata": {},
   "outputs": [],
   "source": [
    "# update all columns to fill in blank values"
   ]
  },
  {
   "cell_type": "code",
   "execution_count": 8,
   "metadata": {},
   "outputs": [],
   "source": [
    "# oversampling data to improve class balance\n",
    "from imblearn.over_sampling import SMOTE\n",
    "data_resampled, labels_resampled = SMOTE().fit_resample(data, labels)"
   ]
  },
  {
   "cell_type": "code",
   "execution_count": 9,
   "metadata": {},
   "outputs": [
    {
     "name": "stdout",
     "output_type": "stream",
     "text": [
      "(4580, 92)\n",
      "(4580,)\n"
     ]
    }
   ],
   "source": [
    "print(data_resampled.shape)\n",
    "print(labels_resampled.shape)"
   ]
  },
  {
   "cell_type": "code",
   "execution_count": 10,
   "metadata": {},
   "outputs": [],
   "source": [
    "# split the data into train and test\n",
    "from sklearn.model_selection import train_test_split\n",
    "x_train, x_test, y_train, y_test = train_test_split(data_resampled, labels_resampled, test_size=0.30)"
   ]
  },
  {
   "cell_type": "code",
   "execution_count": 11,
   "metadata": {},
   "outputs": [],
   "source": [
    "from keras.utils import to_categorical\n",
    "y_train = to_categorical(y_train)\n",
    "y_test = to_categorical(y_test)"
   ]
  },
  {
   "cell_type": "code",
   "execution_count": 12,
   "metadata": {},
   "outputs": [
    {
     "name": "stdout",
     "output_type": "stream",
     "text": [
      "(3206, 92)\n",
      "(1374, 92)\n",
      "(3206, 2)\n",
      "(1374, 2)\n"
     ]
    }
   ],
   "source": [
    "print(x_train.shape)\n",
    "print(x_test.shape)\n",
    "print(y_train.shape)\n",
    "print(y_test.shape)"
   ]
  },
  {
   "cell_type": "code",
   "execution_count": 13,
   "metadata": {},
   "outputs": [],
   "source": [
    "# create validation set\n",
    "val_size = int(np.round(len(x_train)*.2))\n",
    "x_val = x_train[:val_size]\n",
    "x_train_minus_val = x_train[val_size:]\n",
    "\n",
    "y_val = y_train[:val_size]\n",
    "y_train_minus_val = y_train[val_size:]"
   ]
  },
  {
   "cell_type": "code",
   "execution_count": 14,
   "metadata": {},
   "outputs": [
    {
     "data": {
      "text/plain": [
       "(641, 92)"
      ]
     },
     "execution_count": 14,
     "metadata": {},
     "output_type": "execute_result"
    }
   ],
   "source": [
    "x_val.shape"
   ]
  },
  {
   "cell_type": "code",
   "execution_count": 33,
   "metadata": {},
   "outputs": [
    {
     "name": "stdout",
     "output_type": "stream",
     "text": [
      "Train on 2565 samples, validate on 641 samples\n",
      "Epoch 1/20\n",
      "2565/2565 [==============================] - 1s 374us/step - loss: 1.3299 - acc: 0.5084 - val_loss: 0.7585 - val_acc: 0.5242\n",
      "Epoch 2/20\n",
      "2565/2565 [==============================] - 0s 21us/step - loss: 0.7174 - acc: 0.5669 - val_loss: 0.6379 - val_acc: 0.6443\n",
      "Epoch 3/20\n",
      "2565/2565 [==============================] - 0s 21us/step - loss: 0.6395 - acc: 0.6347 - val_loss: 0.5881 - val_acc: 0.6849\n",
      "Epoch 4/20\n",
      "2565/2565 [==============================] - 0s 21us/step - loss: 0.5746 - acc: 0.6990 - val_loss: 0.5362 - val_acc: 0.7504\n",
      "Epoch 5/20\n",
      "2565/2565 [==============================] - 0s 21us/step - loss: 0.5285 - acc: 0.7450 - val_loss: 0.4882 - val_acc: 0.7956\n",
      "Epoch 6/20\n",
      "2565/2565 [==============================] - 0s 21us/step - loss: 0.4891 - acc: 0.7559 - val_loss: 0.4563 - val_acc: 0.7988\n",
      "Epoch 7/20\n",
      "2565/2565 [==============================] - 0s 22us/step - loss: 0.4263 - acc: 0.8082 - val_loss: 0.4067 - val_acc: 0.8378\n",
      "Epoch 8/20\n",
      "2565/2565 [==============================] - 0s 22us/step - loss: 0.4125 - acc: 0.8246 - val_loss: 0.4129 - val_acc: 0.8222\n",
      "Epoch 9/20\n",
      "2565/2565 [==============================] - 0s 22us/step - loss: 0.3807 - acc: 0.8288 - val_loss: 0.3674 - val_acc: 0.8471\n",
      "Epoch 10/20\n",
      "2565/2565 [==============================] - 0s 22us/step - loss: 0.3680 - acc: 0.8351 - val_loss: 0.3520 - val_acc: 0.8440\n",
      "Epoch 11/20\n",
      "2565/2565 [==============================] - 0s 21us/step - loss: 0.3497 - acc: 0.8452 - val_loss: 0.3457 - val_acc: 0.8643\n",
      "Epoch 12/20\n",
      "2565/2565 [==============================] - 0s 21us/step - loss: 0.3450 - acc: 0.8519 - val_loss: 0.3761 - val_acc: 0.8331\n",
      "Epoch 13/20\n",
      "2565/2565 [==============================] - 0s 21us/step - loss: 0.3233 - acc: 0.8581 - val_loss: 0.3346 - val_acc: 0.8690\n",
      "Epoch 14/20\n",
      "2565/2565 [==============================] - 0s 21us/step - loss: 0.2964 - acc: 0.8768 - val_loss: 0.3253 - val_acc: 0.8705\n",
      "Epoch 15/20\n",
      "2565/2565 [==============================] - 0s 21us/step - loss: 0.3067 - acc: 0.8702 - val_loss: 0.3367 - val_acc: 0.8627\n",
      "Epoch 16/20\n",
      "2565/2565 [==============================] - 0s 21us/step - loss: 0.3046 - acc: 0.8710 - val_loss: 0.3282 - val_acc: 0.8705\n",
      "Epoch 17/20\n",
      "2565/2565 [==============================] - 0s 21us/step - loss: 0.2769 - acc: 0.8815 - val_loss: 0.3191 - val_acc: 0.8705\n",
      "Epoch 18/20\n",
      "2565/2565 [==============================] - 0s 21us/step - loss: 0.2652 - acc: 0.8904 - val_loss: 0.3300 - val_acc: 0.8721\n",
      "Epoch 19/20\n",
      "2565/2565 [==============================] - 0s 21us/step - loss: 0.2847 - acc: 0.8799 - val_loss: 0.3115 - val_acc: 0.8752\n",
      "Epoch 20/20\n",
      "2565/2565 [==============================] - 0s 21us/step - loss: 0.2777 - acc: 0.8803 - val_loss: 0.3056 - val_acc: 0.8846\n"
     ]
    }
   ],
   "source": [
    "# train basic RNN\n",
    "rnn_model = Sequential()\n",
    "rnn_model.add(Dense(128, activation='relu', input_shape=(92,)))\n",
    "rnn_model.add(Dense(64, activation='relu'))\n",
    "rnn_model.add(Dense(64, activation='relu'))\n",
    "rnn_model.add(Dense(64, activation='relu'))\n",
    "rnn_model.add(Dropout(.1))\n",
    "rnn_model.add(Dense(2, activation='softmax')) \n",
    "\n",
    "rnn_model.compile(optimizer='adam',\n",
    "              loss='categorical_crossentropy',\n",
    "              metrics=['accuracy'])\n",
    "\n",
    "rnn_history = rnn_model.fit(x_train_minus_val,\n",
    "                    y_train_minus_val,\n",
    "                    epochs=20,\n",
    "                    batch_size=216,\n",
    "                    validation_data=(x_val, y_val))"
   ]
  },
  {
   "cell_type": "code",
   "execution_count": 34,
   "metadata": {},
   "outputs": [
    {
     "data": {
      "image/png": "[encoded data removed]",
      "text/plain": [
       "<Figure size 432x288 with 1 Axes>"
      ]
     },
     "metadata": {
      "needs_background": "light"
     },
     "output_type": "display_data"
    },
    {
     "data": {
      "image/png": "[encoded data removed]",
      "text/plain": [
       "<Figure size 432x288 with 1 Axes>"
      ]
     },
     "metadata": {
      "needs_background": "light"
     },
     "output_type": "display_data"
    }
   ],
   "source": [
    "# accuracy and loss\n",
    "\n",
    "loss = rnn_history.history['loss']\n",
    "val_loss = rnn_history.history['val_loss']\n",
    "epochs = range(1, len(loss) + 1)\n",
    "plt.plot(epochs, loss, 'bo', label='Training Loss')\n",
    "plt.plot(epochs, val_loss, 'b', label='Validation Loss')\n",
    "plt.title('Training and Validation Loss')\n",
    "plt.xlabel('Epochs')\n",
    "plt.ylabel('Loss')\n",
    "plt.legend()\n",
    "plt.show()\n",
    "\n",
    "plt.clf()\n",
    "acc = rnn_history.history['acc']\n",
    "val_acc = rnn_history.history['val_acc']\n",
    "plt.plot(epochs, acc, 'bo', label='Training Accuracy')\n",
    "plt.plot(epochs, val_acc, 'b', label='Validation Accuracy')\n",
    "plt.title('Training and Validation Accuracy')\n",
    "plt.xlabel('Epochs')\n",
    "plt.ylabel('Accuracy')\n",
    "plt.legend()\n",
    "plt.show()"
   ]
  },
  {
   "cell_type": "code",
   "execution_count": null,
   "metadata": {},
   "outputs": [],
   "source": []
  }
 ],
 "metadata": {
  "kernelspec": {
   "display_name": "Python 3",
   "language": "python",
   "name": "python3"
  },
  "language_info": {
   "codemirror_mode": {
    "name": "ipython",
    "version": 3
   },
   "file_extension": ".py",
   "mimetype": "text/x-python",
   "name": "python",
   "nbconvert_exporter": "python",
   "pygments_lexer": "ipython3",
   "version": "3.6.8"
  }
 },
 "nbformat": 4,
 "nbformat_minor": 2
}
